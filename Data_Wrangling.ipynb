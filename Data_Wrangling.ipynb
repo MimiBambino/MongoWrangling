{
 "cells": [
  {
   "cell_type": "markdown",
   "metadata": {},
   "source": [
    "#Final Project for Data Wrangling with MongoDB\n",
    "Cynthia O'Donnell\n",
    "\n",
    "Objective: Audit and clean the data set, convert data from XML to JSON, input to MongoDB database and run queries against the database.\n",
    "\n",
    "Honor code statement:\n",
    "\n",
    "*“I, Cynthia O'Donnell, hereby confirm that this submission is my own work.  I have cited above the origins of any parts of the submission that were taken from websites, books, forums, blog posts, Github repositories, etc. By including this in my project report, I understand that I will be expected to explain my work in a video call with a Udacity coach before I can receive my verified certificate.”*"
   ]
  },
  {
   "cell_type": "markdown",
   "metadata": {},
   "source": [
    "##Data Overview\n",
    "- Location: Richmond, Virginia\n",
    "- [Original Data](https://github.com/mimibambino/DAND_P2/richmond_virginia.osm)\n",
    "- Data size: `114.9 MB`\n",
    "- JSON data size: `130.3 MB`"
   ]
  },
  {
   "cell_type": "markdown",
   "metadata": {},
   "source": [
    "I began the audit by running the `count_tags()` function.  It creates a Python dictionary of all the tags contained in the xml file."
   ]
  },
  {
   "cell_type": "code",
   "execution_count": 1,
   "metadata": {
    "collapsed": false
   },
   "outputs": [
    {
     "name": "stdout",
     "output_type": "stream",
     "text": [
      "{'bounds': 1,\n",
      " 'member': 3101,\n",
      " 'nd': 603849,\n",
      " 'node': 523670,\n",
      " 'osm': 1,\n",
      " 'relation': 410,\n",
      " 'tag': 293571,\n",
      " 'way': 49326}\n"
     ]
    }
   ],
   "source": [
    "import xml.etree.ElementTree as ET\n",
    "import pprint\n",
    "filename = \"richmond_virginia.osm\"\n",
    "\n",
    "def count_tags(filename):\n",
    "    tags = {}\n",
    "    for _, element in ET.iterparse(filename, events=(\"start\",)):\n",
    "        if element.tag in tags:\n",
    "            tags[element.tag] += 1\n",
    "        else:\n",
    "            tags[element.tag] = 1\n",
    "    return tags\n",
    "\n",
    "pprint.pprint(count_tags(filename))"
   ]
  },
  {
   "cell_type": "markdown",
   "metadata": {},
   "source": [
    "In order to input this data to MongoDB, I need to determine what the keys to use.  There are many `<node>` and `<way>` tags in this data and these tags have a `k` attribute.  This next code determines whether the k values would be valid keys in MongoDB.  \n",
    "\n",
    "In order to do this we use 3 regular expressions to check for certain patterns\n",
    "in the `k` attributes."
   ]
  },
  {
   "cell_type": "code",
   "execution_count": 4,
   "metadata": {
    "collapsed": false
   },
   "outputs": [
    {
     "name": "stdout",
     "output_type": "stream",
     "text": [
      "{'lower': 118144, 'lower_colon': 168747, 'other': 6677, 'problemchars': 3}\n"
     ]
    }
   ],
   "source": [
    "import xml.etree.ElementTree as ET\n",
    "import pprint\n",
    "import re\n",
    "\"\"\"\n",
    "Determine whether the \"k\" value for each \"<tag>\" can be a valid key in MongoDB.\n",
    "\"\"\"\n",
    "\n",
    "lower = re.compile(r'^([a-z]|_)*$')\n",
    "lower_colon = re.compile(r'^([a-z]|_)*:([a-z]|_)*$')\n",
    "problemchars = re.compile(r'[=\\+/&<>;\\'\"\\?%#$@\\,\\. \\t\\r\\n]')\n",
    "\n",
    "\n",
    "def key_type(element, keys):\n",
    "    if element.tag == \"tag\":\n",
    "        k = element.attrib['k']\n",
    "        if lower.search(k):\n",
    "            keys[\"lower\"] += 1\n",
    "        elif lower_colon.search(k):\n",
    "            keys[\"lower_colon\"] += 1\n",
    "        elif problemchars.search(k):\n",
    "            keys[\"problemchars\"] += 1\n",
    "        else:\n",
    "            keys[\"other\"] += 1\n",
    "        \n",
    "    return keys\n",
    "\n",
    "def process_map(filename):\n",
    "    keys = {\"lower\": 0, \"lower_colon\": 0, \"problemchars\": 0, \"other\": 0}\n",
    "    for _, element in ET.iterparse(filename):\n",
    "        keys = key_type(element, keys)\n",
    "\n",
    "    return keys\n",
    "\n",
    "keys = process_map(filename)\n",
    "pprint.pprint(keys)"
   ]
  },
  {
   "cell_type": "markdown",
   "metadata": {},
   "source": [
    "This output tells us that our function classifies most tags as `lower` or `lower_colon`.  Three of the tags were classified as `problemchars`, and 6677 tags were classified as `other`.  I would like to investigate the `problemchars` tags further. "
   ]
  },
  {
   "cell_type": "code",
   "execution_count": 4,
   "metadata": {
    "collapsed": false
   },
   "outputs": [
    {
     "name": "stdout",
     "output_type": "stream",
     "text": [
      "problem: commit message\n",
      "{'k': 'commit message', 'v': '#osmgeoweek #GisNova'}\n",
      "problem: commit message\n",
      "{'k': 'commit message', 'v': '#osmgeoweek #GisNova'}\n",
      "problem: commit message\n",
      "{'k': 'commit message', 'v': '#osmgeoweek #GisNova'}\n"
     ]
    }
   ],
   "source": [
    "def print_problems(filename):\n",
    "    for _, element in ET.iterparse(filename):\n",
    "        if element.tag == \"tag\":\n",
    "            k = element.attrib[\"k\"]\n",
    "            if lower.search(k):\n",
    "                pass\n",
    "            elif lower_colon.search(k):\n",
    "                pass\n",
    "            elif problemchars.search(k):\n",
    "                print \"problem: \" + k\n",
    "                print element.attrib\n",
    "\n",
    "print_problems(filename)"
   ]
  },
  {
   "cell_type": "markdown",
   "metadata": {},
   "source": [
    "I am not sure what this particular key value pair means, but I do not believe it to be critical information. \n",
    "\n",
    "Now I will print a sorted list of the types of tag elements in the dataset as indicated by the `k` attribute of the tag."
   ]
  },
  {
   "cell_type": "code",
   "execution_count": 2,
   "metadata": {
    "collapsed": false
   },
   "outputs": [],
   "source": [
    "import operator\n",
    "\n",
    "def count_tags(filename):\n",
    "\n",
    "    tag_count = {}\n",
    "    tag_keys = {}\n",
    "    counter = 0\n",
    "\n",
    "    for _, element in ET.iterparse(filename, events=(\"start\",)):\n",
    "        add_tag(element.tag, tag_count)\n",
    "\n",
    "        if element.tag == \"tag\" and \"k\" in element.attrib:\n",
    "            add_tag(element.get(\"k\"), tag_keys)\n",
    "\n",
    "        counter += 1\n",
    "\n",
    "    tag_keys = sorted(tag_keys.items(), key=operator.itemgetter(1))[::-1]\n",
    "\n",
    "    return tag_count, tag_keys\n",
    "\n",
    "def add_tag(tag, tag_count):\n",
    "    if tag in tag_count:\n",
    "        tag_count[tag] += 1\n",
    "    else:\n",
    "        tag_count[tag] = 1\n",
    "\n",
    "tags, tag_keys = count_tags(filename)\n",
    "#tag_keys\n",
    "None # prevent very long output"
   ]
  },
  {
   "cell_type": "markdown",
   "metadata": {},
   "source": [
    "I prevented the output of the `count_tags` function.  Here is an excerpt of the output:\n",
    "```\n",
    "[('highway', 41157),\n",
    " ('name', 25395),\n",
    " ('tiger:cfcc', 24704),\n",
    " ('tiger:county', 24699),\n",
    " ('tiger:reviewed', 24544),\n",
    " ('tiger:name_base', 17068),\n",
    " ('tiger:name_type', 16486),\n",
    " ('tiger:zip_left', 14069),\n",
    " ('tiger:zip_right', 13401),\n",
    " ('building', 8485)]\n",
    "```\n",
    "There are many keys that begin with either `tiger` or `gnis`.  Further research revealed that these are two separate encoding systems for location data."
   ]
  },
  {
   "cell_type": "code",
   "execution_count": 6,
   "metadata": {
    "collapsed": false
   },
   "outputs": [
    {
     "name": "stdout",
     "output_type": "stream",
     "text": [
      "tiger: 130225\n",
      "gnis: 163346\n"
     ]
    }
   ],
   "source": [
    "def gnis_or_tiger(filename):\n",
    "\n",
    "    tiger = 0\n",
    "    gnis = 0\n",
    "\n",
    "    for _, element in ET.iterparse(filename, events=(\"start\",)):\n",
    "\n",
    "        if element.tag == \"tag\" and \"k\" in element.attrib:\n",
    "            k = element.attrib[\"k\"]\n",
    "            if k.find(\"tiger\"):\n",
    "                tiger += 1\n",
    "            elif k.find(\"gnis\"):\n",
    "                gnis += 1\n",
    "    print \"tiger: \" + str(tiger)\n",
    "    print \"gnis: \" + str(gnis)\n",
    "\n",
    "gnis_or_tiger(filename)"
   ]
  },
  {
   "cell_type": "markdown",
   "metadata": {},
   "source": [
    "That is a little surprising, because at first glance I thought there would be more tiger encoded data than gnis.\n",
    "\n",
    "Now I find the number of unique users in the data file."
   ]
  },
  {
   "cell_type": "code",
   "execution_count": 8,
   "metadata": {
    "collapsed": false
   },
   "outputs": [
    {
     "name": "stdout",
     "output_type": "stream",
     "text": [
      "371\n"
     ]
    }
   ],
   "source": [
    "def process_map(filename):\n",
    "    users = set()\n",
    "    for _, element in ET.iterparse(filename):\n",
    "        if element.tag == \"node\" or element.tag == \"relation\" or element.tag == \"way\":\n",
    "            uid = element.attrib[\"uid\"]\n",
    "            users.add(uid)\n",
    "\n",
    "    return users\n",
    "\n",
    "users = process_map(filename)\n",
    "print(len(users))"
   ]
  },
  {
   "cell_type": "markdown",
   "metadata": {},
   "source": [
    "Now I examine the street names in the data to see if there are any unexpected types."
   ]
  },
  {
   "cell_type": "code",
   "execution_count": 9,
   "metadata": {
    "collapsed": false
   },
   "outputs": [
    {
     "data": {
      "text/plain": [
       "[]"
      ]
     },
     "execution_count": 9,
     "metadata": {},
     "output_type": "execute_result"
    }
   ],
   "source": [
    "street_type_re = re.compile(r'b\\S+\\.?$', re.IGNORECASE)\n",
    "street_types = []\n",
    "\n",
    "expected = [\"Street\", \"Avenue\", \"Boulevard\", \"Drive\", \"Court\", \"Place\"]\n",
    "\n",
    "def audit_street_type(street_types, street_name):\n",
    "    m = street_type_re.search(street_name)\n",
    "    if m:\n",
    "        street_type = m.group()\n",
    "        #print \"match\"\n",
    "        if street_type not in expected:\n",
    "            street_types.append(street_type)\n",
    "\n",
    "def is_street_name(elem):\n",
    "    return (elem.attrib[\"k\"] == \"addr:street\")\n",
    "\n",
    "def audit():\n",
    "    count = 0\n",
    "    for event, elem in ET.iterparse(filename, events=(\"start\",)):\n",
    "        if elem.tag == \"way\":\n",
    "            count += 1\n",
    "            for tag in elem.iter(\"tag\"):\n",
    "                if is_street_name(tag):\n",
    "                    audit_street_type(street_types, tag.attrib['v'])\n",
    "    #print count\n",
    "    return street_types\n",
    "\n",
    "audit()"
   ]
  },
  {
   "cell_type": "markdown",
   "metadata": {},
   "source": [
    "There are no unexpected street types. At first this result surprised me.  I thought my code wasn't looping over all of the elements properly, so I debugged the `audit()` function with the count statements that are commented out and the `print` call in the `audit_street_type` function.  It seems that there really are no unexpected street types.\n",
    "\n",
    "Next, I will create a list of Python dictionaries containing the relevant xml data."
   ]
  },
  {
   "cell_type": "code",
   "execution_count": 5,
   "metadata": {
    "collapsed": false
   },
   "outputs": [],
   "source": [
    "import codecs\n",
    "import json\n",
    "\n",
    "#lower = re.compile(r'^([a-z]|_)*$')\n",
    "#lower_colon = re.compile(r'^([a-z]|_)*:([a-z]|_)*$')\n",
    "#problemchars = re.compile(r'[=\\+/&<>;\\'\"\\?%#$@\\,\\. \\t\\r\\n]')\n",
    "\n",
    "CREATED = [\"version\", \"changeset\", \"timestamp\", \"user\", \"uid\"]\n",
    "\n",
    "def shape_element(element):\n",
    "    node = {}\n",
    "    if element.tag == \"node\" or element.tag == \"way\":\n",
    "        node[\"id\"] = element.attrib[\"id\"]\n",
    "        node[\"type\"] = element.tag\n",
    "        if \"visible\" in element.attrib.keys():\n",
    "            node[\"visible\"] = element.attrib[\"visible\"]\n",
    "        if \"lat\" in element.attrib.keys():\n",
    "            node[\"pos\"] = [float(element.attrib[\"lat\"]), float(element.attrib[\"lon\"])]\n",
    "        node[\"created\"] = {}\n",
    "        for i in CREATED:\n",
    "            node[\"created\"][i] = element.attrib[i]\n",
    "        address = {}\n",
    "        for tag in element.iter(\"tag\"):\n",
    "            if problemchars.search(tag.attrib[\"k\"]):\n",
    "                continue\n",
    "            elif tag.attrib[\"k\"][:5] == \"addr:\":\n",
    "                if \":\" in tag.attrib[\"k\"][5:]:\n",
    "                    continue\n",
    "                else:\n",
    "                    address[tag.attrib[\"k\"][5:]] = tag.attrib[\"v\"]\n",
    "            else:\n",
    "                node[tag.attrib[\"k\"]] = tag.attrib[\"v\"]\n",
    "        if address != {}:\n",
    "            node[\"address\"] = address\n",
    "        node_refs = []\n",
    "        for nd in element.iter(\"nd\"):\n",
    "            node_refs.append(nd.attrib[\"ref\"])\n",
    "        if node_refs != []:\n",
    "            node[\"node_refs\"] = node_refs\n",
    "        return node\n",
    "    else:\n",
    "        return None\n",
    "\n",
    "def process_map(file_in, pretty = False):\n",
    "    # You do not need to change this file\n",
    "    file_out = \"{0}.json\".format(file_in)\n",
    "    data = []\n",
    "    with codecs.open(file_out, \"w\") as fo:\n",
    "        for _, element in ET.iterparse(file_in):\n",
    "            el = shape_element(element)\n",
    "            if el:\n",
    "                data.append(el)\n",
    "                if pretty:\n",
    "                    fo.write(json.dumps(el, indent=2)+\"\\n\")\n",
    "                else:\n",
    "                    fo.write(json.dumps(el) + \"\\n\")\n",
    "    return data\n",
    "\n",
    "process_map(filename)\n",
    "None # prevent very long output"
   ]
  },
  {
   "cell_type": "markdown",
   "metadata": {
    "collapsed": false
   },
   "source": [
    "Again, I prevented the output.  Here is an excerpt:\n",
    "```\n",
    "[{'created': {'changeset': '748904',\n",
    "   'timestamp': '2009-03-07T00:42:41Z',\n",
    "   'uid': '80046',\n",
    "   'user': 'OMapper',\n",
    "   'version': '10'},\n",
    "  'id': '396808',\n",
    "  'pos': [37.6937583, -77.4504328],\n",
    "  'type': 'node'},\n",
    " {'created': {'changeset': '1838365',\n",
    "   'timestamp': '2009-07-15T18:40:07Z',\n",
    "   'uid': '145008',\n",
    "   'user': 'cdombroski',\n",
    "   'version': '2'},\n",
    "  'id': '396809',\n",
    "  'pos': [37.6936055, -77.4497461],\n",
    "  'type': 'node'}]\n",
    "```\n",
    "\n",
    "Now I will input the json file into MongoDB."
   ]
  },
  {
   "cell_type": "code",
   "execution_count": 1,
   "metadata": {
    "collapsed": true
   },
   "outputs": [],
   "source": [
    "from pymongo import MongoClient\n",
    "\n",
    "client = MongoClient()\n",
    "client = MongoClient(\"localhost\", 27017)\n",
    "db = client.map_data\n",
    "collection = db.richmond\n",
    "\n",
    "# Commented out so that I don't recreate the database every time I run this block\n",
    "#with open('richmond_virginia.osm.json') as f:\n",
    "#    for line in f:\n",
    "#        collection.insert(json.loads(line))"
   ]
  },
  {
   "cell_type": "code",
   "execution_count": 2,
   "metadata": {
    "collapsed": false
   },
   "outputs": [
    {
     "name": "stdout",
     "output_type": "stream",
     "text": [
      "Collection count: 572996\n",
      "Node count: 523669\n",
      "Way count: 49319\n",
      "Distinct Users: 356\n"
     ]
    }
   ],
   "source": [
    "print \"Collection count: %d\" % collection.find().count()\n",
    "print \"Node count: %d\" % collection.find( {\"type\":\"node\"} ).count()\n",
    "print \"Way count: %d\" % collection.find( {\"type\":\"way\"} ).count()\n",
    "print \"Distinct Users: %d\" % len(collection.distinct( \"created.user\" ) )"
   ]
  },
  {
   "cell_type": "markdown",
   "metadata": {
    "collapsed": false
   },
   "source": [
    "Now I determine who is the most prolific contributor."
   ]
  },
  {
   "cell_type": "code",
   "execution_count": 3,
   "metadata": {
    "collapsed": false
   },
   "outputs": [
    {
     "data": {
      "text/plain": [
       "[{u'_id': u'woodpeck_fixbot', u'count': 261780}]"
      ]
     },
     "execution_count": 3,
     "metadata": {},
     "output_type": "execute_result"
    }
   ],
   "source": [
    "cursor = collection.aggregate([{ \"$group\": { \"_id\": \"$created.user\", \n",
    "                                           \"count\": { \"$sum\": 1 } } }, \n",
    "                              { \"$sort\": { \"count\": -1 } }, \n",
    "                              { \"$limit\": 1 }])\n",
    "top_contributor = list(cursor)\n",
    "top_contributor"
   ]
  },
  {
   "cell_type": "markdown",
   "metadata": {},
   "source": [
    "That is a lot of contributions.  Let's see what the distribution of contributions per contributor looks like."
   ]
  },
  {
   "cell_type": "code",
   "execution_count": 4,
   "metadata": {
    "collapsed": false
   },
   "outputs": [
    {
     "name": "stdout",
     "output_type": "stream",
     "text": [
      "Populating the interactive namespace from numpy and matplotlib\n"
     ]
    },
    {
     "data": {
      "image/png": "[encoded data removed]",
      "text/plain": [
       "<matplotlib.figure.Figure at 0x7fd484141350>"
      ]
     },
     "metadata": {},
     "output_type": "display_data"
    }
   ],
   "source": [
    "%pylab inline\n",
    "# Get top 10 contributors\n",
    "cursor = collection.aggregate([{ \"$group\": { \"_id\": \"$created.user\", \n",
    "                                             \"count\": { \"$sum\": 1 } } }, \n",
    "                               { \"$sort\": { \"count\": -1 } }, \n",
    "                               { \"$limit\": 10 }])\n",
    "top_ten = list(cursor)\n",
    "\n",
    "# Create x and y axes \n",
    "x = list(range(10))\n",
    "for i in x:\n",
    "    x[i] += 1 # Because people don't start counting with 0\n",
    "y = []\n",
    "for entry in top_ten:\n",
    "    y.append(entry[\"count\"]) \n",
    "\n",
    "# Draw plot\n",
    "plot(x, y, linewidth=3.5, color=\"#D536A9\")\n",
    "xlabel(\"Rank of Contributor\")\n",
    "ylabel(\"Count of Contributions\")\n",
    "None # prevent plot object output"
   ]
  },
  {
   "cell_type": "markdown",
   "metadata": {},
   "source": [
    "How many contributors only contributed one time?"
   ]
  },
  {
   "cell_type": "code",
   "execution_count": 5,
   "metadata": {
    "collapsed": false
   },
   "outputs": [
    {
     "data": {
      "text/plain": [
       "[{u'_id': 1, u'num_users': 77}]"
      ]
     },
     "execution_count": 5,
     "metadata": {},
     "output_type": "execute_result"
    }
   ],
   "source": [
    "cursor = collection.aggregate([{ \"$group\": { \"_id\": \"$created.user\",\n",
    "                                             \"count\": { \"$sum\": 1 } } }, \n",
    "                               { \"$group\": { \"_id\": \"$count\", \"num_users\": { \"$sum\": 1 } } }, \n",
    "                               { \"$sort\": { \"_id\": 1 } }, \n",
    "                               { \"$limit\": 1 }])\n",
    "\n",
    "one_timers = list(cursor)\n",
    "one_timers"
   ]
  },
  {
   "cell_type": "markdown",
   "metadata": {},
   "source": [
    "What kind of amenities are in this dataset?"
   ]
  },
  {
   "cell_type": "code",
   "execution_count": 6,
   "metadata": {
    "collapsed": false
   },
   "outputs": [
    {
     "data": {
      "text/plain": [
       "[{u'_id': u'parking', u'count': 806},\n",
       " {u'_id': u'restaurant', u'count': 533},\n",
       " {u'_id': u'place_of_worship', u'count': 415},\n",
       " {u'_id': u'school', u'count': 396},\n",
       " {u'_id': u'fast_food', u'count': 276}]"
      ]
     },
     "execution_count": 6,
     "metadata": {},
     "output_type": "execute_result"
    }
   ],
   "source": [
    "cursor = collection.aggregate([ { \"$match\": { \"amenity\": { \"$exists\": 1 } } },\n",
    "                                { \"$group\": { \"_id\": \"$amenity\", \"count\": { \"$sum\":1 } } },\n",
    "                                { \"$sort\": { \"count\": -1 } },\n",
    "                                { \"$limit\": 5 }])\n",
    "amenities = list(cursor)\n",
    "amenities"
   ]
  },
  {
   "cell_type": "markdown",
   "metadata": {},
   "source": [
    "How many nodes contain addresses?"
   ]
  },
  {
   "cell_type": "code",
   "execution_count": 7,
   "metadata": {
    "collapsed": false
   },
   "outputs": [
    {
     "data": {
      "text/plain": [
       "[{u'_id': u'Addresses', u'count': 368}]"
      ]
     },
     "execution_count": 7,
     "metadata": {},
     "output_type": "execute_result"
    }
   ],
   "source": [
    "cursor = collection.aggregate([{ \"$match\": { \"type\": \"node\", \n",
    "                                             \"address\": { \"$exists\": 1 } } }, \n",
    "                               { \"$group\": { \"_id\": \"Addresses\",\n",
    "                                             \"count\": { \"$sum\": 1 } } }])\n",
    "tiger_data = list(cursor)\n",
    "tiger_data"
   ]
  },
  {
   "cell_type": "markdown",
   "metadata": {},
   "source": [
    "What does the distribution of zip codes look like?"
   ]
  },
  {
   "cell_type": "code",
   "execution_count": 46,
   "metadata": {
    "collapsed": false
   },
   "outputs": [
    {
     "data": {
      "image/png": "[encoded data removed]",
      "text/plain": [
       "<matplotlib.figure.Figure at 0x7fd45602fd50>"
      ]
     },
     "metadata": {},
     "output_type": "display_data"
    }
   ],
   "source": [
    "cursor = collection.aggregate([{ \"$match\": { \"address.postcode\": { \"$exists\": 1 } } }, \n",
    "                               { \"$group\": { \"_id\": \"$address.postcode\", \"count\": { \"$sum\": 1 } } }, \n",
    "                               { \"$sort\": { \"count\": -1 } }])\n",
    "postcodes = list(cursor)\n",
    "\n",
    "x = []\n",
    "y = []\n",
    "for entry in postcodes:\n",
    "    x.append(entry[\"count\"])\n",
    "    y.append(entry[\"_id\"])\n",
    "\n",
    "hist(x, 50, histtype=\"stepfilled\", normed=True)\n",
    "xlabel(\"of Postcodes\")\n",
    "ylabel(\"Frequency\")\n",
    "\n",
    "None # prevent plot object output"
   ]
  },
  {
   "cell_type": "markdown",
   "metadata": {},
   "source": [
    "This graph is a little confusing, but the important part is the distribution.  Most of the postcodes are very closely grouped together, with a few very different ones.  Upon further examination, the extreme outliers appear to be in an altoghther different format. Other postcodes began with `8` or `1` which is incorrect for Virginia.  All Virginia postcodes begin with `2`. \n",
    "\n",
    "Next, I will find the most frequent postcode."
   ]
  },
  {
   "cell_type": "code",
   "execution_count": 12,
   "metadata": {
    "collapsed": false
   },
   "outputs": [
    {
     "data": {
      "text/plain": [
       "[{u'_id': u'23223', u'count': 106}]"
      ]
     },
     "execution_count": 12,
     "metadata": {},
     "output_type": "execute_result"
    }
   ],
   "source": [
    "cursor = collection.aggregate([{ \"$match\": { \"address.postcode\": { \"$exists\": 1 } } }, \n",
    "                               { \"$group\": { \"_id\": \"$address.postcode\", \"count\": { \"$sum\": 1 } } }, \n",
    "                               { \"$sort\": { \"count\": -1 } },\n",
    "                               { \"$limit\": 1 }])\n",
    "postcodes = list(cursor)\n",
    "postcodes"
   ]
  },
  {
   "cell_type": "markdown",
   "metadata": {},
   "source": [
    "Now I will update postcodes that do not begin with `2` with the most frequent zip code."
   ]
  },
  {
   "cell_type": "code",
   "execution_count": 42,
   "metadata": {
    "collapsed": false
   },
   "outputs": [],
   "source": [
    "import re\n",
    "cursor = collection.aggregate([ { \"$match\": { \"address.postcode\": { \"$exists\": 1 } } }, \n",
    "                                { \"$match\": { \"address.postcode\": { \"$not\": re.compile(\"^2\") } } } ])\n",
    "bad_postcodes = list(cursor)\n",
    "\n",
    "for bad in bad_postcodes:\n",
    "    id = bad[\"_id\"]\n",
    "    collection.update(\n",
    "        {\"_id\": id},\n",
    "        {\"$set\": {\"address.postcode\": \"23223\"}}\n",
    "    )"
   ]
  },
  {
   "cell_type": "code",
   "execution_count": 43,
   "metadata": {
    "collapsed": false
   },
   "outputs": [
    {
     "data": {
      "text/plain": [
       "[]"
      ]
     },
     "execution_count": 43,
     "metadata": {},
     "output_type": "execute_result"
    }
   ],
   "source": [
    "cursor = collection.aggregate([ { \"$match\": { \"address.postcode\": { \"$exists\": 1 } } }, \n",
    "                                { \"$match\": { \"address.postcode\": { \"$not\": re.compile(\"^2\") } } } ])\n",
    "bad_postcodes = list(cursor)\n",
    "bad_postcodes"
   ]
  },
  {
   "cell_type": "markdown",
   "metadata": {},
   "source": [
    "It looks like all of the postcodes now begin with `2`.  Let's see what the count for postcode `23223` is now."
   ]
  },
  {
   "cell_type": "code",
   "execution_count": 47,
   "metadata": {
    "collapsed": false
   },
   "outputs": [
    {
     "data": {
      "text/plain": [
       "[{u'_id': u'23223', u'count': 109}]"
      ]
     },
     "execution_count": 47,
     "metadata": {},
     "output_type": "execute_result"
    }
   ],
   "source": [
    "cursor = collection.aggregate([{ \"$match\": { \"address.postcode\": { \"$exists\": 1 } } }, \n",
    "                               { \"$group\": { \"_id\": \"$address.postcode\", \"count\": { \"$sum\": 1 } } }, \n",
    "                               { \"$sort\": { \"count\": -1 } },\n",
    "                               { \"$limit\": 1 }])\n",
    "postcodes = list(cursor)\n",
    "postcodes"
   ]
  },
  {
   "cell_type": "markdown",
   "metadata": {},
   "source": [
    "Three postcodes have been updated."
   ]
  },
  {
   "cell_type": "markdown",
   "metadata": {},
   "source": [
    "## Problems with the Data\n",
    "\n",
    "I went through several location choices before I settled on Richmond, Virginia. My first choice of locations was far too small to meet the file size requirement for this project. Then, I chose another location with a large enough file size, but it was not very interesting because there were no buildings or amenites at all, only streets.  Then I tried a major city, but my computer crashed when I tried to read the xml file.  Finally, I settled on Richmond which was a good compromise between complexity of the data and smaller file size.  \n",
    "\n",
    "Unfortunately, this particular data set is relatively cleaner than the other datasets I started analyzing.  For example, there were no unexpected street names, which was not the case with the other datasets. By far, most of the nodes in this dataset do not include addresses or amenities.\n",
    "\n",
    "When determining whether the `k` values included in the tags would make appropriate MongoDB keys, I found this, `{'k': 'commit message', 'v': '#osmgeoweek #GisNova'}` three times. It appears to include a user name. And a reference to [osmgeoweek](http://osmgeoweek.org/), a geography awareness organization located in Washington, D.C.  It does not appear to have any meaning to the area of Richmond, Virginia.\n",
    "\n",
    "There are many tag keys that appear once or a very small number of times. For instance, `diet:gluten_free` and `service:bicycle_repair` appear only once each.\n",
    "\n",
    "Some of the data is encoded according to the [TIGER](http://wiki.openstreetmap.org/wiki/TIGER) system and some is encoded according to the [GNIS](http://wiki.openstreetmap.org/wiki/USGS_GNIS) system. As far as I understand, they are two competing systems and TIGER is the newer and generally more favored of the two. This data is nearly evenly split between the two encoding systems.\n",
    "\n",
    "\n",
    "##Conclusion\n",
    "This dataset could be improved by more thorough cleaning, especially by cross validation with other data sources such as Google Maps. For example, some of the postcodes were obviously wrong.  Some had six digits and some did not begin with `2` which is the correct first digit for Virginia postcodes.  I substituted the most popular postcode for some of the obviously incorrect ones, but it would have been better to discern the correct postcode by cross validating with another data source using the position information.\n",
    "\n",
    "I had trouble analyzing some of the larger datasets on my personal computer. It would be interesting to examine this data using cloud computing clusters, which would facilitate analysis of much larger datasets.  Although that would add more complexity to the analysis, it might prove to be an easier way to validate the data against other sources.\n",
    "\n",
    "Finally, by utilizing other data sources, it might be possible to discern a better system of tag keys.  The high number of keys appearing only once could possibly be grouped with other keys into slightly broader categories without losing much information.\n",
    "\n",
    "##Sources\n",
    "- [Mongo University](https://university.mongodb.com/)\n",
    "- [Stack Overflow](http://stackoverflow.com/questions/19384871/aggregation-with-update-in-mongodb)\n",
    "- [Data Wrangling with MongoDB](https://www.udacity.com/course/data-wrangling-with-mongodb--ud032-nd)"
   ]
  }
 ],
 "metadata": {
  "kernelspec": {
   "display_name": "Python 2",
   "language": "python",
   "name": "python2"
  },
  "language_info": {
   "codemirror_mode": {
    "name": "ipython",
    "version": 2
   },
   "file_extension": ".py",
   "mimetype": "text/x-python",
   "name": "python",
   "nbconvert_exporter": "python",
   "pygments_lexer": "ipython2",
   "version": "2.7.9"
  }
 },
 "nbformat": 4,
 "nbformat_minor": 0
}
